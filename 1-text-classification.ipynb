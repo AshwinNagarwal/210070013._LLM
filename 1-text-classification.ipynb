{
 "cells": [
  {
   "cell_type": "markdown",
   "id": "1efd4c2f-1bf7-41f6-808b-87f7ed693a27",
   "metadata": {},
   "source": [
    "# Use Case 1: Text Classification with Text Embeddings"
   ]
  },
  {
   "cell_type": "code",
   "execution_count": 12,
   "id": "e8b504f6",
   "metadata": {},
   "outputs": [
    {
     "name": "stdout",
     "output_type": "stream",
     "text": [
      "Collecting openai\n",
      "  Downloading openai-1.35.7-py3-none-any.whl.metadata (21 kB)\n",
      "Collecting anyio<5,>=3.5.0 (from openai)\n",
      "  Using cached anyio-4.4.0-py3-none-any.whl.metadata (4.6 kB)\n",
      "Collecting distro<2,>=1.7.0 (from openai)\n",
      "  Using cached distro-1.9.0-py3-none-any.whl.metadata (6.8 kB)\n",
      "Collecting httpx<1,>=0.23.0 (from openai)\n",
      "  Using cached httpx-0.27.0-py3-none-any.whl.metadata (7.2 kB)\n",
      "Collecting pydantic<3,>=1.9.0 (from openai)\n",
      "  Using cached pydantic-2.7.4-py3-none-any.whl.metadata (109 kB)\n",
      "Collecting sniffio (from openai)\n",
      "  Using cached sniffio-1.3.1-py3-none-any.whl.metadata (3.9 kB)\n",
      "Requirement already satisfied: tqdm>4 in c:\\users\\prem raj nagarwal\\appdata\\local\\programs\\python\\python311\\lib\\site-packages (from openai) (4.66.2)\n",
      "Requirement already satisfied: typing-extensions<5,>=4.7 in c:\\users\\prem raj nagarwal\\appdata\\local\\programs\\python\\python311\\lib\\site-packages (from openai) (4.9.0)\n",
      "Requirement already satisfied: idna>=2.8 in c:\\users\\prem raj nagarwal\\appdata\\local\\programs\\python\\python311\\lib\\site-packages (from anyio<5,>=3.5.0->openai) (3.4)\n",
      "Requirement already satisfied: certifi in c:\\users\\prem raj nagarwal\\appdata\\local\\programs\\python\\python311\\lib\\site-packages (from httpx<1,>=0.23.0->openai) (2023.7.22)\n",
      "Collecting httpcore==1.* (from httpx<1,>=0.23.0->openai)\n",
      "  Using cached httpcore-1.0.5-py3-none-any.whl.metadata (20 kB)\n",
      "Collecting h11<0.15,>=0.13 (from httpcore==1.*->httpx<1,>=0.23.0->openai)\n",
      "  Using cached h11-0.14.0-py3-none-any.whl.metadata (8.2 kB)\n",
      "Collecting annotated-types>=0.4.0 (from pydantic<3,>=1.9.0->openai)\n",
      "  Using cached annotated_types-0.7.0-py3-none-any.whl.metadata (15 kB)\n",
      "Collecting pydantic-core==2.18.4 (from pydantic<3,>=1.9.0->openai)\n",
      "  Using cached pydantic_core-2.18.4-cp311-none-win_amd64.whl.metadata (6.7 kB)\n",
      "Requirement already satisfied: colorama in c:\\users\\prem raj nagarwal\\appdata\\roaming\\python\\python311\\site-packages (from tqdm>4->openai) (0.4.6)\n",
      "Downloading openai-1.35.7-py3-none-any.whl (327 kB)\n",
      "   ---------------------------------------- 0.0/327.5 kB ? eta -:--:--\n",
      "   -------------------------------------- - 317.4/327.5 kB 9.6 MB/s eta 0:00:01\n",
      "   ---------------------------------------- 327.5/327.5 kB 6.7 MB/s eta 0:00:00\n",
      "Using cached anyio-4.4.0-py3-none-any.whl (86 kB)\n",
      "Using cached distro-1.9.0-py3-none-any.whl (20 kB)\n",
      "Using cached httpx-0.27.0-py3-none-any.whl (75 kB)\n",
      "Using cached httpcore-1.0.5-py3-none-any.whl (77 kB)\n",
      "Using cached pydantic-2.7.4-py3-none-any.whl (409 kB)\n",
      "Using cached pydantic_core-2.18.4-cp311-none-win_amd64.whl (1.9 MB)\n",
      "Using cached sniffio-1.3.1-py3-none-any.whl (10 kB)\n",
      "Using cached annotated_types-0.7.0-py3-none-any.whl (13 kB)\n",
      "Using cached h11-0.14.0-py3-none-any.whl (58 kB)\n",
      "Installing collected packages: sniffio, pydantic-core, h11, distro, annotated-types, pydantic, httpcore, anyio, httpx, openai\n",
      "Successfully installed annotated-types-0.7.0 anyio-4.4.0 distro-1.9.0 h11-0.14.0 httpcore-1.0.5 httpx-0.27.0 openai-1.35.7 pydantic-2.7.4 pydantic-core-2.18.4 sniffio-1.3.1\n",
      "Note: you may need to restart the kernel to use updated packages.\n"
     ]
    },
    {
     "name": "stderr",
     "output_type": "stream",
     "text": [
      "\n",
      "[notice] A new release of pip is available: 24.0 -> 24.1.1\n",
      "[notice] To update, run: python.exe -m pip install --upgrade pip\n"
     ]
    }
   ],
   "source": [
    "pip install openai"
   ]
  },
  {
   "cell_type": "code",
   "execution_count": 13,
   "id": "0b8368e1",
   "metadata": {},
   "outputs": [
    {
     "name": "stdout",
     "output_type": "stream",
     "text": [
      "Requirement already satisfied: scikit-learn in c:\\users\\prem raj nagarwal\\appdata\\local\\programs\\python\\python311\\lib\\site-packages (1.3.2)\n",
      "Requirement already satisfied: numpy<2.0,>=1.17.3 in c:\\users\\prem raj nagarwal\\appdata\\local\\programs\\python\\python311\\lib\\site-packages (from scikit-learn) (1.25.1)\n",
      "Requirement already satisfied: scipy>=1.5.0 in c:\\users\\prem raj nagarwal\\appdata\\local\\programs\\python\\python311\\lib\\site-packages (from scikit-learn) (1.11.3)\n",
      "Requirement already satisfied: joblib>=1.1.1 in c:\\users\\prem raj nagarwal\\appdata\\local\\programs\\python\\python311\\lib\\site-packages (from scikit-learn) (1.3.2)\n",
      "Requirement already satisfied: threadpoolctl>=2.0.0 in c:\\users\\prem raj nagarwal\\appdata\\local\\programs\\python\\python311\\lib\\site-packages (from scikit-learn) (3.2.0)\n",
      "Note: you may need to restart the kernel to use updated packages.\n"
     ]
    },
    {
     "name": "stderr",
     "output_type": "stream",
     "text": [
      "\n",
      "[notice] A new release of pip is available: 24.0 -> 24.1.1\n",
      "[notice] To update, run: python.exe -m pip install --upgrade pip\n"
     ]
    }
   ],
   "source": [
    "pip install scikit-learn"
   ]
  },
  {
   "cell_type": "markdown",
   "id": "b141b6ab-7790-4074-9d3a-28c721b66c9d",
   "metadata": {},
   "source": [
    "### imports"
   ]
  },
  {
   "cell_type": "code",
   "execution_count": 14,
   "id": "0070b3df-061b-4d8b-b983-ea70ebfb076c",
   "metadata": {},
   "outputs": [],
   "source": [
    "import openai\n",
    "\n",
    "import pandas as pd\n",
    "import numpy as np\n",
    "import matplotlib.pyplot as plt\n",
    "\n",
    "from sklearn.decomposition import PCA\n",
    "from sklearn.ensemble import RandomForestClassifier\n",
    "from sklearn.metrics import roc_auc_score\n",
    "from sklearn.metrics import confusion_matrix, ConfusionMatrixDisplay"
   ]
  },
  {
   "cell_type": "code",
   "execution_count": 15,
   "id": "20aeb86a",
   "metadata": {},
   "outputs": [],
   "source": [
    "import pandas as pd"
   ]
  },
  {
   "cell_type": "markdown",
   "id": "c0652ce4-f2e4-4714-b29e-1bbb8d1e0484",
   "metadata": {},
   "source": [
    "### import data"
   ]
  },
  {
   "cell_type": "code",
   "execution_count": 16,
   "id": "987d8b90-d8c8-4cb4-8a20-a396d6c13c5c",
   "metadata": {},
   "outputs": [
    {
     "data": {
      "text/html": [
       "<div>\n",
       "<style scoped>\n",
       "    .dataframe tbody tr th:only-of-type {\n",
       "        vertical-align: middle;\n",
       "    }\n",
       "\n",
       "    .dataframe tbody tr th {\n",
       "        vertical-align: top;\n",
       "    }\n",
       "\n",
       "    .dataframe thead th {\n",
       "        text-align: right;\n",
       "    }\n",
       "</style>\n",
       "<table border=\"1\" class=\"dataframe\">\n",
       "  <thead>\n",
       "    <tr style=\"text-align: right;\">\n",
       "      <th></th>\n",
       "      <th>resume</th>\n",
       "      <th>role</th>\n",
       "    </tr>\n",
       "  </thead>\n",
       "  <tbody>\n",
       "    <tr>\n",
       "      <th>0</th>\n",
       "      <td>### John Doe\\n\\n---\\n\\n#### Summary\\nDetail-or...</td>\n",
       "      <td>Data Scientist</td>\n",
       "    </tr>\n",
       "    <tr>\n",
       "      <th>1</th>\n",
       "      <td>Creating a resume for a Data Scientist based o...</td>\n",
       "      <td>Data Scientist</td>\n",
       "    </tr>\n",
       "    <tr>\n",
       "      <th>2</th>\n",
       "      <td>Creating a resume for a Data Scientist...\\n\\n-...</td>\n",
       "      <td>Data Scientist</td>\n",
       "    </tr>\n",
       "    <tr>\n",
       "      <th>3</th>\n",
       "      <td>Creating a resume for a Data Scientist based o...</td>\n",
       "      <td>Data Scientist</td>\n",
       "    </tr>\n",
       "    <tr>\n",
       "      <th>4</th>\n",
       "      <td>## John Doe\\n\\n---\\n\\n### Summary:\\nData Scien...</td>\n",
       "      <td>Data Scientist</td>\n",
       "    </tr>\n",
       "  </tbody>\n",
       "</table>\n",
       "</div>"
      ],
      "text/plain": [
       "                                              resume            role\n",
       "0  ### John Doe\\n\\n---\\n\\n#### Summary\\nDetail-or...  Data Scientist\n",
       "1  Creating a resume for a Data Scientist based o...  Data Scientist\n",
       "2  Creating a resume for a Data Scientist...\\n\\n-...  Data Scientist\n",
       "3  Creating a resume for a Data Scientist based o...  Data Scientist\n",
       "4  ## John Doe\\n\\n---\\n\\n### Summary:\\nData Scien...  Data Scientist"
      ]
     },
     "execution_count": 16,
     "metadata": {},
     "output_type": "execute_result"
    }
   ],
   "source": [
    "df_resume = pd.read_csv('resumes_train.csv')\n",
    "df_resume.head()"
   ]
  },
  {
   "cell_type": "code",
   "execution_count": 6,
   "id": "650d8f86",
   "metadata": {},
   "outputs": [
    {
     "data": {
      "text/plain": [
       "0     ### John Doe\\n\\n---\\n\\n#### Summary\\nDetail-or...\n",
       "1     Creating a resume for a Data Scientist based o...\n",
       "2     Creating a resume for a Data Scientist...\\n\\n-...\n",
       "3     Creating a resume for a Data Scientist based o...\n",
       "4     ## John Doe\\n\\n---\\n\\n### Summary:\\nData Scien...\n",
       "                            ...                        \n",
       "95    Sure, here is a randomly generated resume for ...\n",
       "96    ---\\n**John Doe**\\nSummary:\\nDedicated and res...\n",
       "97    ---\\n**Jane Doe**\\n---\\n\\n**Summary:**\\nDedica...\n",
       "98    Certainly! Here is a randomly generated resume...\n",
       "99    Certainly! Here is a randomly generated resume...\n",
       "Name: resume, Length: 100, dtype: object"
      ]
     },
     "execution_count": 6,
     "metadata": {},
     "output_type": "execute_result"
    }
   ],
   "source": [
    "df_resume['resume']"
   ]
  },
  {
   "cell_type": "markdown",
   "id": "881f9155-338b-4b36-a997-f89ee347e9bc",
   "metadata": {},
   "source": [
    "### generate text embeddings"
   ]
  },
  {
   "cell_type": "code",
   "execution_count": 19,
   "id": "cb5faade",
   "metadata": {},
   "outputs": [],
   "source": [
    "my_sk=\"\""
   ]
  },
  {
   "cell_type": "code",
   "execution_count": 20,
   "id": "7f62d4de-be3f-4545-985d-4e4806221f65",
   "metadata": {},
   "outputs": [],
   "source": [
    "def generate_embeddings(text, my_sk):\n",
    "    # set credentials\n",
    "    client = openai.OpenAI(api_key = my_sk)\n",
    "    \n",
    "    # make api call\n",
    "    response = client.embeddings.create(\n",
    "        input=text,\n",
    "        model=\"text-embedding-3-small\"\n",
    "    )\n",
    "    \n",
    "    # return text embedding\n",
    "    return response.data"
   ]
  },
  {
   "cell_type": "code",
   "execution_count": null,
   "id": "1edc47bd-5680-4473-bc33-4a5a0657accc",
   "metadata": {},
   "outputs": [],
   "source": [
    "# generate embeddings\n",
    "text_embeddings = generate_embeddings(df_resume['resume'], my_sk)\n",
    "# extract embeddings\n",
    "text_embedding_list = [text_embeddings[i].embedding for i in range(len(text_embeddings))]"
   ]
  },
  {
   "cell_type": "markdown",
   "id": "14401a75-cd40-443d-b8dd-7758c3e90604",
   "metadata": {},
   "source": [
    "### Store embeddings in df"
   ]
  },
  {
   "cell_type": "code",
   "execution_count": 5,
   "id": "5f64f4a0-35eb-4c7c-9c67-71c4577f484b",
   "metadata": {},
   "outputs": [
    {
     "data": {
      "text/html": [
       "<div>\n",
       "<style scoped>\n",
       "    .dataframe tbody tr th:only-of-type {\n",
       "        vertical-align: middle;\n",
       "    }\n",
       "\n",
       "    .dataframe tbody tr th {\n",
       "        vertical-align: top;\n",
       "    }\n",
       "\n",
       "    .dataframe thead th {\n",
       "        text-align: right;\n",
       "    }\n",
       "</style>\n",
       "<table border=\"1\" class=\"dataframe\">\n",
       "  <thead>\n",
       "    <tr style=\"text-align: right;\">\n",
       "      <th></th>\n",
       "      <th>embedding_0</th>\n",
       "      <th>embedding_1</th>\n",
       "      <th>embedding_2</th>\n",
       "      <th>embedding_3</th>\n",
       "      <th>embedding_4</th>\n",
       "      <th>embedding_5</th>\n",
       "      <th>embedding_6</th>\n",
       "      <th>embedding_7</th>\n",
       "      <th>embedding_8</th>\n",
       "      <th>embedding_9</th>\n",
       "      <th>...</th>\n",
       "      <th>embedding_1527</th>\n",
       "      <th>embedding_1528</th>\n",
       "      <th>embedding_1529</th>\n",
       "      <th>embedding_1530</th>\n",
       "      <th>embedding_1531</th>\n",
       "      <th>embedding_1532</th>\n",
       "      <th>embedding_1533</th>\n",
       "      <th>embedding_1534</th>\n",
       "      <th>embedding_1535</th>\n",
       "      <th>is_data_scientist</th>\n",
       "    </tr>\n",
       "  </thead>\n",
       "  <tbody>\n",
       "    <tr>\n",
       "      <th>0</th>\n",
       "      <td>0.011933</td>\n",
       "      <td>0.010847</td>\n",
       "      <td>0.044104</td>\n",
       "      <td>0.023064</td>\n",
       "      <td>0.034498</td>\n",
       "      <td>0.000129</td>\n",
       "      <td>-0.020570</td>\n",
       "      <td>0.034843</td>\n",
       "      <td>-0.023768</td>\n",
       "      <td>-0.000556</td>\n",
       "      <td>...</td>\n",
       "      <td>0.043363</td>\n",
       "      <td>-0.029806</td>\n",
       "      <td>0.016483</td>\n",
       "      <td>0.001631</td>\n",
       "      <td>0.017533</td>\n",
       "      <td>0.010816</td>\n",
       "      <td>-0.037288</td>\n",
       "      <td>0.011057</td>\n",
       "      <td>0.001679</td>\n",
       "      <td>True</td>\n",
       "    </tr>\n",
       "    <tr>\n",
       "      <th>1</th>\n",
       "      <td>0.005887</td>\n",
       "      <td>0.030654</td>\n",
       "      <td>0.032117</td>\n",
       "      <td>-0.006901</td>\n",
       "      <td>0.008575</td>\n",
       "      <td>-0.034895</td>\n",
       "      <td>-0.015005</td>\n",
       "      <td>0.053421</td>\n",
       "      <td>-0.018737</td>\n",
       "      <td>0.012431</td>\n",
       "      <td>...</td>\n",
       "      <td>0.020039</td>\n",
       "      <td>-0.010435</td>\n",
       "      <td>0.012983</td>\n",
       "      <td>-0.008693</td>\n",
       "      <td>-0.003131</td>\n",
       "      <td>0.004374</td>\n",
       "      <td>-0.025161</td>\n",
       "      <td>0.033382</td>\n",
       "      <td>0.003277</td>\n",
       "      <td>True</td>\n",
       "    </tr>\n",
       "    <tr>\n",
       "      <th>2</th>\n",
       "      <td>0.008211</td>\n",
       "      <td>0.016624</td>\n",
       "      <td>0.029623</td>\n",
       "      <td>0.011863</td>\n",
       "      <td>0.014980</td>\n",
       "      <td>-0.028498</td>\n",
       "      <td>-0.011717</td>\n",
       "      <td>0.048397</td>\n",
       "      <td>-0.035791</td>\n",
       "      <td>0.019032</td>\n",
       "      <td>...</td>\n",
       "      <td>0.019437</td>\n",
       "      <td>0.000441</td>\n",
       "      <td>0.018672</td>\n",
       "      <td>0.001213</td>\n",
       "      <td>-0.001257</td>\n",
       "      <td>0.004882</td>\n",
       "      <td>-0.022735</td>\n",
       "      <td>0.022960</td>\n",
       "      <td>0.004629</td>\n",
       "      <td>True</td>\n",
       "    </tr>\n",
       "    <tr>\n",
       "      <th>3</th>\n",
       "      <td>0.000980</td>\n",
       "      <td>0.022212</td>\n",
       "      <td>0.049778</td>\n",
       "      <td>0.009431</td>\n",
       "      <td>0.015012</td>\n",
       "      <td>-0.034424</td>\n",
       "      <td>-0.012995</td>\n",
       "      <td>0.058286</td>\n",
       "      <td>-0.031759</td>\n",
       "      <td>0.034229</td>\n",
       "      <td>...</td>\n",
       "      <td>0.020476</td>\n",
       "      <td>-0.012872</td>\n",
       "      <td>0.025500</td>\n",
       "      <td>-0.002258</td>\n",
       "      <td>0.012567</td>\n",
       "      <td>0.000316</td>\n",
       "      <td>-0.032371</td>\n",
       "      <td>0.030463</td>\n",
       "      <td>0.008802</td>\n",
       "      <td>True</td>\n",
       "    </tr>\n",
       "    <tr>\n",
       "      <th>4</th>\n",
       "      <td>0.019266</td>\n",
       "      <td>0.003695</td>\n",
       "      <td>0.035332</td>\n",
       "      <td>0.021370</td>\n",
       "      <td>0.037020</td>\n",
       "      <td>-0.022668</td>\n",
       "      <td>-0.023764</td>\n",
       "      <td>0.061641</td>\n",
       "      <td>-0.019442</td>\n",
       "      <td>-0.005267</td>\n",
       "      <td>...</td>\n",
       "      <td>0.023764</td>\n",
       "      <td>-0.006754</td>\n",
       "      <td>0.031400</td>\n",
       "      <td>0.008064</td>\n",
       "      <td>0.017729</td>\n",
       "      <td>0.024810</td>\n",
       "      <td>-0.041002</td>\n",
       "      <td>0.031274</td>\n",
       "      <td>0.000356</td>\n",
       "      <td>True</td>\n",
       "    </tr>\n",
       "  </tbody>\n",
       "</table>\n",
       "<p>5 rows × 1537 columns</p>\n",
       "</div>"
      ],
      "text/plain": [
       "   embedding_0  embedding_1  embedding_2  embedding_3  embedding_4  \\\n",
       "0     0.011933     0.010847     0.044104     0.023064     0.034498   \n",
       "1     0.005887     0.030654     0.032117    -0.006901     0.008575   \n",
       "2     0.008211     0.016624     0.029623     0.011863     0.014980   \n",
       "3     0.000980     0.022212     0.049778     0.009431     0.015012   \n",
       "4     0.019266     0.003695     0.035332     0.021370     0.037020   \n",
       "\n",
       "   embedding_5  embedding_6  embedding_7  embedding_8  embedding_9  ...  \\\n",
       "0     0.000129    -0.020570     0.034843    -0.023768    -0.000556  ...   \n",
       "1    -0.034895    -0.015005     0.053421    -0.018737     0.012431  ...   \n",
       "2    -0.028498    -0.011717     0.048397    -0.035791     0.019032  ...   \n",
       "3    -0.034424    -0.012995     0.058286    -0.031759     0.034229  ...   \n",
       "4    -0.022668    -0.023764     0.061641    -0.019442    -0.005267  ...   \n",
       "\n",
       "   embedding_1527  embedding_1528  embedding_1529  embedding_1530  \\\n",
       "0        0.043363       -0.029806        0.016483        0.001631   \n",
       "1        0.020039       -0.010435        0.012983       -0.008693   \n",
       "2        0.019437        0.000441        0.018672        0.001213   \n",
       "3        0.020476       -0.012872        0.025500       -0.002258   \n",
       "4        0.023764       -0.006754        0.031400        0.008064   \n",
       "\n",
       "   embedding_1531  embedding_1532  embedding_1533  embedding_1534  \\\n",
       "0        0.017533        0.010816       -0.037288        0.011057   \n",
       "1       -0.003131        0.004374       -0.025161        0.033382   \n",
       "2       -0.001257        0.004882       -0.022735        0.022960   \n",
       "3        0.012567        0.000316       -0.032371        0.030463   \n",
       "4        0.017729        0.024810       -0.041002        0.031274   \n",
       "\n",
       "   embedding_1535  is_data_scientist  \n",
       "0        0.001679               True  \n",
       "1        0.003277               True  \n",
       "2        0.004629               True  \n",
       "3        0.008802               True  \n",
       "4        0.000356               True  \n",
       "\n",
       "[5 rows x 1537 columns]"
      ]
     },
     "execution_count": 5,
     "metadata": {},
     "output_type": "execute_result"
    }
   ],
   "source": [
    "# define df column names\n",
    "column_names = [\"embedding_\" + str(i) for i in range(len(text_embedding_list[0]))]\n",
    "\n",
    "# store text embeddings in dataframe\n",
    "df_train = pd.DataFrame(text_embedding_list, columns=column_names)\n",
    "\n",
    "# create target variable\n",
    "df_train['is_data_scientist'] = df_resume['role']==\"Data Scientist\"\n",
    "df_train.to_csv('resumes/embeddings_train.csv', index=False)\n",
    "df_train.head()"
   ]
  },
  {
   "cell_type": "markdown",
   "id": "12b56d77",
   "metadata": {},
   "source": [
    "**All resumes are embedded in 1536 embedding dimensions !!!**"
   ]
  },
  {
   "cell_type": "markdown",
   "id": "5c476426-c66d-4eba-9173-658e255c19c5",
   "metadata": {},
   "source": [
    "### Visualize embeddings with PCA"
   ]
  },
  {
   "cell_type": "code",
   "execution_count": 23,
   "id": "813af70c",
   "metadata": {},
   "outputs": [
    {
     "data": {
      "text/html": [
       "<div>\n",
       "<style scoped>\n",
       "    .dataframe tbody tr th:only-of-type {\n",
       "        vertical-align: middle;\n",
       "    }\n",
       "\n",
       "    .dataframe tbody tr th {\n",
       "        vertical-align: top;\n",
       "    }\n",
       "\n",
       "    .dataframe thead th {\n",
       "        text-align: right;\n",
       "    }\n",
       "</style>\n",
       "<table border=\"1\" class=\"dataframe\">\n",
       "  <thead>\n",
       "    <tr style=\"text-align: right;\">\n",
       "      <th></th>\n",
       "      <th>embedding_0</th>\n",
       "      <th>embedding_1</th>\n",
       "      <th>embedding_2</th>\n",
       "      <th>embedding_3</th>\n",
       "      <th>embedding_4</th>\n",
       "      <th>embedding_5</th>\n",
       "      <th>embedding_6</th>\n",
       "      <th>embedding_7</th>\n",
       "      <th>embedding_8</th>\n",
       "      <th>embedding_9</th>\n",
       "      <th>...</th>\n",
       "      <th>embedding_1527</th>\n",
       "      <th>embedding_1528</th>\n",
       "      <th>embedding_1529</th>\n",
       "      <th>embedding_1530</th>\n",
       "      <th>embedding_1531</th>\n",
       "      <th>embedding_1532</th>\n",
       "      <th>embedding_1533</th>\n",
       "      <th>embedding_1534</th>\n",
       "      <th>embedding_1535</th>\n",
       "      <th>is_data_scientist</th>\n",
       "    </tr>\n",
       "  </thead>\n",
       "  <tbody>\n",
       "    <tr>\n",
       "      <th>0</th>\n",
       "      <td>0.011933</td>\n",
       "      <td>0.010847</td>\n",
       "      <td>0.044104</td>\n",
       "      <td>0.023064</td>\n",
       "      <td>0.034498</td>\n",
       "      <td>0.000129</td>\n",
       "      <td>-0.020570</td>\n",
       "      <td>0.034843</td>\n",
       "      <td>-0.023768</td>\n",
       "      <td>-0.000556</td>\n",
       "      <td>...</td>\n",
       "      <td>0.043363</td>\n",
       "      <td>-0.029806</td>\n",
       "      <td>0.016483</td>\n",
       "      <td>0.001631</td>\n",
       "      <td>0.017533</td>\n",
       "      <td>0.010816</td>\n",
       "      <td>-0.037288</td>\n",
       "      <td>0.011057</td>\n",
       "      <td>0.001679</td>\n",
       "      <td>True</td>\n",
       "    </tr>\n",
       "    <tr>\n",
       "      <th>1</th>\n",
       "      <td>0.005887</td>\n",
       "      <td>0.030654</td>\n",
       "      <td>0.032117</td>\n",
       "      <td>-0.006901</td>\n",
       "      <td>0.008575</td>\n",
       "      <td>-0.034895</td>\n",
       "      <td>-0.015005</td>\n",
       "      <td>0.053421</td>\n",
       "      <td>-0.018737</td>\n",
       "      <td>0.012431</td>\n",
       "      <td>...</td>\n",
       "      <td>0.020039</td>\n",
       "      <td>-0.010435</td>\n",
       "      <td>0.012983</td>\n",
       "      <td>-0.008693</td>\n",
       "      <td>-0.003131</td>\n",
       "      <td>0.004374</td>\n",
       "      <td>-0.025161</td>\n",
       "      <td>0.033382</td>\n",
       "      <td>0.003277</td>\n",
       "      <td>True</td>\n",
       "    </tr>\n",
       "    <tr>\n",
       "      <th>2</th>\n",
       "      <td>0.008211</td>\n",
       "      <td>0.016624</td>\n",
       "      <td>0.029623</td>\n",
       "      <td>0.011863</td>\n",
       "      <td>0.014980</td>\n",
       "      <td>-0.028498</td>\n",
       "      <td>-0.011717</td>\n",
       "      <td>0.048397</td>\n",
       "      <td>-0.035791</td>\n",
       "      <td>0.019032</td>\n",
       "      <td>...</td>\n",
       "      <td>0.019437</td>\n",
       "      <td>0.000441</td>\n",
       "      <td>0.018672</td>\n",
       "      <td>0.001213</td>\n",
       "      <td>-0.001257</td>\n",
       "      <td>0.004882</td>\n",
       "      <td>-0.022735</td>\n",
       "      <td>0.022960</td>\n",
       "      <td>0.004629</td>\n",
       "      <td>True</td>\n",
       "    </tr>\n",
       "    <tr>\n",
       "      <th>3</th>\n",
       "      <td>0.000980</td>\n",
       "      <td>0.022212</td>\n",
       "      <td>0.049778</td>\n",
       "      <td>0.009431</td>\n",
       "      <td>0.015012</td>\n",
       "      <td>-0.034424</td>\n",
       "      <td>-0.012995</td>\n",
       "      <td>0.058286</td>\n",
       "      <td>-0.031759</td>\n",
       "      <td>0.034229</td>\n",
       "      <td>...</td>\n",
       "      <td>0.020476</td>\n",
       "      <td>-0.012872</td>\n",
       "      <td>0.025500</td>\n",
       "      <td>-0.002258</td>\n",
       "      <td>0.012567</td>\n",
       "      <td>0.000316</td>\n",
       "      <td>-0.032371</td>\n",
       "      <td>0.030463</td>\n",
       "      <td>0.008802</td>\n",
       "      <td>True</td>\n",
       "    </tr>\n",
       "    <tr>\n",
       "      <th>4</th>\n",
       "      <td>0.019266</td>\n",
       "      <td>0.003695</td>\n",
       "      <td>0.035332</td>\n",
       "      <td>0.021370</td>\n",
       "      <td>0.037020</td>\n",
       "      <td>-0.022668</td>\n",
       "      <td>-0.023764</td>\n",
       "      <td>0.061641</td>\n",
       "      <td>-0.019442</td>\n",
       "      <td>-0.005267</td>\n",
       "      <td>...</td>\n",
       "      <td>0.023764</td>\n",
       "      <td>-0.006754</td>\n",
       "      <td>0.031400</td>\n",
       "      <td>0.008064</td>\n",
       "      <td>0.017729</td>\n",
       "      <td>0.024810</td>\n",
       "      <td>-0.041002</td>\n",
       "      <td>0.031274</td>\n",
       "      <td>0.000356</td>\n",
       "      <td>True</td>\n",
       "    </tr>\n",
       "  </tbody>\n",
       "</table>\n",
       "<p>5 rows × 1537 columns</p>\n",
       "</div>"
      ],
      "text/plain": [
       "   embedding_0  embedding_1  embedding_2  embedding_3  embedding_4  \\\n",
       "0     0.011933     0.010847     0.044104     0.023064     0.034498   \n",
       "1     0.005887     0.030654     0.032117    -0.006901     0.008575   \n",
       "2     0.008211     0.016624     0.029623     0.011863     0.014980   \n",
       "3     0.000980     0.022212     0.049778     0.009431     0.015012   \n",
       "4     0.019266     0.003695     0.035332     0.021370     0.037020   \n",
       "\n",
       "   embedding_5  embedding_6  embedding_7  embedding_8  embedding_9  ...  \\\n",
       "0     0.000129    -0.020570     0.034843    -0.023768    -0.000556  ...   \n",
       "1    -0.034895    -0.015005     0.053421    -0.018737     0.012431  ...   \n",
       "2    -0.028498    -0.011717     0.048397    -0.035791     0.019032  ...   \n",
       "3    -0.034424    -0.012995     0.058286    -0.031759     0.034229  ...   \n",
       "4    -0.022668    -0.023764     0.061641    -0.019442    -0.005267  ...   \n",
       "\n",
       "   embedding_1527  embedding_1528  embedding_1529  embedding_1530  \\\n",
       "0        0.043363       -0.029806        0.016483        0.001631   \n",
       "1        0.020039       -0.010435        0.012983       -0.008693   \n",
       "2        0.019437        0.000441        0.018672        0.001213   \n",
       "3        0.020476       -0.012872        0.025500       -0.002258   \n",
       "4        0.023764       -0.006754        0.031400        0.008064   \n",
       "\n",
       "   embedding_1531  embedding_1532  embedding_1533  embedding_1534  \\\n",
       "0        0.017533        0.010816       -0.037288        0.011057   \n",
       "1       -0.003131        0.004374       -0.025161        0.033382   \n",
       "2       -0.001257        0.004882       -0.022735        0.022960   \n",
       "3        0.012567        0.000316       -0.032371        0.030463   \n",
       "4        0.017729        0.024810       -0.041002        0.031274   \n",
       "\n",
       "   embedding_1535  is_data_scientist  \n",
       "0        0.001679               True  \n",
       "1        0.003277               True  \n",
       "2        0.004629               True  \n",
       "3        0.008802               True  \n",
       "4        0.000356               True  \n",
       "\n",
       "[5 rows x 1537 columns]"
      ]
     },
     "execution_count": 23,
     "metadata": {},
     "output_type": "execute_result"
    }
   ],
   "source": [
    "df_train=pd.read_csv('embeddings_train.csv')\n",
    "df_train.head()"
   ]
  },
  {
   "cell_type": "code",
   "execution_count": 24,
   "id": "44152c61-5a3c-4ed5-a433-8f10c08097c4",
   "metadata": {},
   "outputs": [
    {
     "name": "stdout",
     "output_type": "stream",
     "text": [
      "[0.1393931  0.11353098]\n"
     ]
    }
   ],
   "source": [
    "# split variables by predictors and target\n",
    "X = df_train.iloc[:,:-1]\n",
    "y = df_train.iloc[:,-1]\n",
    "\n",
    "# apply PCA to predictors (i.e. embeddings)\n",
    "pca = PCA(n_components=2).fit(X)\n",
    "print(pca.explained_variance_ratio_)"
   ]
  },
  {
   "cell_type": "code",
   "execution_count": 31,
   "id": "9581435d",
   "metadata": {},
   "outputs": [
    {
     "data": {
      "text/plain": [
       "array([[ 0.03100581, -0.21875854],\n",
       "       [ 0.31994373,  0.0522753 ],\n",
       "       [ 0.32890339,  0.0394093 ],\n",
       "       [ 0.34938671,  0.08117459],\n",
       "       [ 0.09402367, -0.10769871]])"
      ]
     },
     "execution_count": 31,
     "metadata": {},
     "output_type": "execute_result"
    }
   ],
   "source": [
    "pca.transform(X)[0:5]  # x,y coordinates of PCA"
   ]
  },
  {
   "cell_type": "code",
   "execution_count": 27,
   "id": "ec24693f-480a-4844-9198-90989e41325d",
   "metadata": {},
   "outputs": [
    {
     "data": {
      "image/png": "[encoded data removed]",
      "text/plain": [
       "<Figure size 600x400 with 1 Axes>"
      ]
     },
     "metadata": {},
     "output_type": "display_data"
    }
   ],
   "source": [
    "# plot data along PCA components\n",
    "c_arr = np.array([\"k\"] * len(y))\n",
    "c_arr[y] = \"r\"\n",
    "\n",
    "plt.figure(figsize=(6, 4))\n",
    "plt.rcParams.update({'font.size': 16})\n",
    "plt.scatter(pca.transform(X)[:,0], pca.transform(X)[:,1], c=c_arr) \n",
    "plt.legend([\"Data Scientist\"])\n",
    "plt.xticks(rotation = 45)\n",
    "plt.xlabel(\"PC 1\")\n",
    "plt.ylabel(\"PC 2\")\n",
    "plt.show()"
   ]
  },
  {
   "cell_type": "markdown",
   "id": "77fc00e9-4596-474f-a001-dc249fc13c94",
   "metadata": {},
   "source": [
    "### Train Random Forest Model"
   ]
  },
  {
   "cell_type": "code",
   "execution_count": 28,
   "id": "d7fb9932-6844-4b33-a8cc-5c830e02655d",
   "metadata": {},
   "outputs": [
    {
     "data": {
      "text/plain": [
       "1.0"
      ]
     },
     "execution_count": 28,
     "metadata": {},
     "output_type": "execute_result"
    }
   ],
   "source": [
    "# train rf model\n",
    "clf = RandomForestClassifier(max_depth=2, random_state=0).fit(X, y)\n",
    "clf.score(X,y) # model accuracy for training data"
   ]
  },
  {
   "cell_type": "code",
   "execution_count": 33,
   "id": "fb8759bb",
   "metadata": {},
   "outputs": [
    {
     "data": {
      "text/plain": [
       "array([[0.14016598, 0.85983402],\n",
       "       [0.09103246, 0.90896754],\n",
       "       [0.06044315, 0.93955685],\n",
       "       [0.04465033, 0.95534967],\n",
       "       [0.19555426, 0.80444574]])"
      ]
     },
     "execution_count": 33,
     "metadata": {},
     "output_type": "execute_result"
    }
   ],
   "source": [
    "clf.predict_proba(X)[0:5] # y_hat probability for 0 and 1"
   ]
  },
  {
   "cell_type": "code",
   "execution_count": 9,
   "id": "a4cf55c0-a82c-4edf-9a35-191d8a30e6d2",
   "metadata": {},
   "outputs": [
    {
     "data": {
      "text/plain": [
       "1.0"
      ]
     },
     "execution_count": 9,
     "metadata": {},
     "output_type": "execute_result"
    }
   ],
   "source": [
    "# AUC value for training data is 1 since model score is 1.0\n",
    "auc_val = roc_auc_score(y, clf.predict_proba(X)[:,1]) # interseted in y_hat being 1 i.e. False Positives\n",
    "auc_val"
   ]
  },
  {
   "cell_type": "code",
   "execution_count": 39,
   "id": "ffd828f9",
   "metadata": {},
   "outputs": [],
   "source": [
    "column_names=X.columns"
   ]
  },
  {
   "cell_type": "code",
   "execution_count": 40,
   "id": "5bdf5532-c32d-41d8-aa38-cc7f88f5edc0",
   "metadata": {},
   "outputs": [
    {
     "name": "stdout",
     "output_type": "stream",
     "text": [
      "embedding_786     0.039140\n",
      "embedding_500     0.034219\n",
      "embedding_464     0.030155\n",
      "embedding_1135    0.025598\n",
      "embedding_72      0.025091\n",
      "embedding_914     0.023709\n",
      "embedding_792     0.021633\n",
      "embedding_291     0.021493\n",
      "embedding_1129    0.019163\n",
      "embedding_725     0.019160\n",
      "embedding_526     0.018982\n",
      "embedding_863     0.018442\n",
      "embedding_181     0.017756\n",
      "embedding_162     0.016688\n",
      "embedding_294     0.016686\n",
      "embedding_1020    0.014972\n",
      "embedding_639     0.014808\n",
      "embedding_630     0.014567\n",
      "embedding_1357    0.014073\n",
      "embedding_129     0.013136\n",
      "embedding_99      0.012933\n",
      "embedding_1199    0.012847\n",
      "embedding_229     0.012758\n",
      "embedding_571     0.012290\n",
      "embedding_173     0.011248\n",
      "dtype: float64\n"
     ]
    }
   ],
   "source": [
    "# print feature importance ranking\n",
    "feature_importances = pd.Series(clf.feature_importances_, index=column_names)\n",
    "feature_importances_sorted = feature_importances.sort_values(ascending=False)\n",
    "print(feature_importances_sorted[:25])"
   ]
  },
  {
   "cell_type": "code",
   "execution_count": 11,
   "id": "045b06c7-3594-498e-a258-be5de1fe6e37",
   "metadata": {},
   "outputs": [
    {
     "data": {
      "image/png": "[encoded data removed]",
      "text/plain": [
       "<Figure size 576x432 with 1 Axes>"
      ]
     },
     "metadata": {
      "needs_background": "light"
     },
     "output_type": "display_data"
    }
   ],
   "source": [
    "# plot data along top 2 most important features\n",
    "plt.figure(figsize=(8, 6))\n",
    "plt.rcParams.update({'font.size': 16})\n",
    "plt.scatter(X[feature_importances_sorted.index[0]], X[feature_importances_sorted.index[1]], c=c_arr)\n",
    "plt.legend([\"Data Scientist\"])\n",
    "plt.xticks(rotation = 45)\n",
    "plt.xlabel(feature_importances_sorted.index[0])\n",
    "plt.ylabel(feature_importances_sorted.index[1])\n",
    "plt.show()"
   ]
  },
  {
   "cell_type": "markdown",
   "id": "a9b50186-3b23-40b1-a4c9-0d2a5b0aaf67",
   "metadata": {},
   "source": [
    "#### evaluate model on testing data"
   ]
  },
  {
   "cell_type": "code",
   "execution_count": 12,
   "id": "225b526a-e612-491a-a7d4-2deb7a956bdb",
   "metadata": {},
   "outputs": [],
   "source": [
    "# import testing data\n",
    "df_resume = pd.read_csv('resumes/resumes_test.csv')\n",
    "\n",
    "# generate embeddings\n",
    "text_embedding_list = generate_embeddings(df_resume['resume'], my_sk)\n",
    "text_embedding_list = [text_embedding_list[i].embedding for i in range(len(text_embedding_list))]\n",
    "\n",
    "# store text embeddings in dataframe\n",
    "df_test = pd.DataFrame(text_embedding_list, columns=column_names)\n",
    "\n",
    "# create target variable\n",
    "df_test['is_data_scientist'] = df_resume['role']==\"Data Scientist\"\n",
    "df_test.to_csv('resumes/embeddings_test.csv', index=False)\n",
    "df_test.head()\n",
    "\n",
    "# define predictors and target\n",
    "X_test = df_test.iloc[:,:-1]\n",
    "y_test = df_test.iloc[:,-1]"
   ]
  },
  {
   "cell_type": "code",
   "execution_count": 13,
   "id": "80bffc9f-5545-41ab-99a4-0d7e4497a22d",
   "metadata": {},
   "outputs": [
    {
     "data": {
      "text/plain": [
       "0.98"
      ]
     },
     "execution_count": 13,
     "metadata": {},
     "output_type": "execute_result"
    }
   ],
   "source": [
    "# accuracy\n",
    "clf.score(X_test,y_test)"
   ]
  },
  {
   "cell_type": "code",
   "execution_count": 14,
   "id": "ab772336-e4fd-468e-83ec-78d300c85779",
   "metadata": {},
   "outputs": [
    {
     "data": {
      "text/plain": [
       "0.9983333333333333"
      ]
     },
     "execution_count": 14,
     "metadata": {},
     "output_type": "execute_result"
    }
   ],
   "source": [
    "# auc\n",
    "auc_val = roc_auc_score(y_test, clf.predict_proba(X_test)[:,1])\n",
    "auc_val"
   ]
  },
  {
   "cell_type": "code",
   "execution_count": 15,
   "id": "921efb6f-101e-490a-88be-0ab3e9651568",
   "metadata": {},
   "outputs": [
    {
     "data": {
      "text/plain": [
       "<sklearn.metrics._plot.confusion_matrix.ConfusionMatrixDisplay at 0x7fa99582ce20>"
      ]
     },
     "execution_count": 15,
     "metadata": {},
     "output_type": "execute_result"
    },
    {
     "data": {
      "image/png": "[encoded data removed]",
      "text/plain": [
       "<Figure size 432x288 with 2 Axes>"
      ]
     },
     "metadata": {
      "needs_background": "light"
     },
     "output_type": "display_data"
    }
   ],
   "source": [
    "cm = confusion_matrix(y_test, clf.predict(X_test), labels=clf.classes_)\n",
    "disp = ConfusionMatrixDisplay(confusion_matrix=cm,\n",
    "                              display_labels=clf.classes_)\n",
    "disp.plot()"
   ]
  },
  {
   "cell_type": "code",
   "execution_count": 23,
   "id": "777e70fc-2bca-432f-9ea6-a17ce5f6eada",
   "metadata": {},
   "outputs": [
    {
     "name": "stdout",
     "output_type": "stream",
     "text": [
      "I. **Name:** John Smith\n",
      "\n",
      "II. **Summary:**\n",
      "A highly skilled Data Scientist with a strong background in statistical analysis and machine learning. Experienced in interpreting and analyzing complex data sets to drive business decisions and strategies. Proven ability to develop predictive models and algorithms to solve challenging problems.\n",
      "\n",
      "III. **Professional Experience:**\n",
      "1. *Data Scientist* at Tech Innovations Inc., San Francisco, CA\n",
      "   - Developed machine learning models to optimize marketing strategies, resulting in a 15% increase in conversions.\n",
      "   - Conducted in-depth data analysis to identify trends and insights for product development.\n",
      "\n",
      "2. *Senior Data Analyst* at Data Solutions Co., New York, NY\n",
      "   - Led a team to automate data collection processes, saving over 100 man-hours per month.\n",
      "   - Collaborated with cross-functional teams to provide data-driven solutions for various business challenges.\n",
      "\n",
      "IV. **Education:**\n",
      "- *Master of Science in Data Science*, University of California, Berkeley\n",
      "- *Bachelor of Science in Statistics*, Stanford University\n",
      "\n",
      "V. **Technical Skills:**\n",
      "- Programming Languages: Python, R, SQL\n",
      "- Machine Learning: Regression, Classification, Clustering, Neural Networks\n",
      "- Data Visualization: Tableau, Matplotlib, seaborn\n",
      "- Big Data Technologies: Hadoop, Spark\n",
      "\n",
      "VI. **Certifications:**\n",
      "- Certified Machine Learning Engineer (CMLE)\n",
      "- AWS Certified Big Data - Specialty\n",
      "\n",
      "VII. **Awards and Honors:**\n",
      "- Dean's List, University of California, Berkeley\n",
      "- Outstanding Performance Award, Tech Innovations Inc.\n"
     ]
    }
   ],
   "source": [
    "# look at errors\n",
    "df_errors = df_resume[y_test != clf.predict(X_test)]\n",
    "print(df_errors.iloc[0,0])"
   ]
  },
  {
   "cell_type": "code",
   "execution_count": null,
   "id": "61e7ff24-611f-4335-be95-f5b340639b42",
   "metadata": {},
   "outputs": [],
   "source": []
  }
 ],
 "metadata": {
  "kernelspec": {
   "display_name": "Python 3",
   "language": "python",
   "name": "python3"
  },
  "language_info": {
   "codemirror_mode": {
    "name": "ipython",
    "version": 3
   },
   "file_extension": ".py",
   "mimetype": "text/x-python",
   "name": "python",
   "nbconvert_exporter": "python",
   "pygments_lexer": "ipython3",
   "version": "3.11.2"
  }
 },
 "nbformat": 4,
 "nbformat_minor": 5
}

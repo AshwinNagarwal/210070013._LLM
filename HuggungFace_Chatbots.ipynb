{
 "cells": [
  {
   "cell_type": "markdown",
   "id": "bee8802b-7396-4d54-9e45-dd5bccccb143",
   "metadata": {},
   "source": [
    "#### Instructions for Conda Virtual env"
   ]
  },
  {
   "cell_type": "markdown",
   "id": "00db24d1-a452-4662-af99-21305b62b7e0",
   "metadata": {},
   "source": [
    "1. Create conda virtual env\n",
    "2. conda install conda-forge::transformers\n",
    "3. conda install jupyter\n",
    "4. pip install gradio(used pip as there is no conda procedure, and we can use pip in conda env but make sure to first install as much packages from conda only and then use pip when need arises)\n"
   ]
  },
  {
   "cell_type": "markdown",
   "id": "9ecac5e2-f476-43e0-a6c9-de34340421f5",
   "metadata": {},
   "source": [
    "## Hugging Face Transformers Library"
   ]
  },
  {
   "cell_type": "code",
   "execution_count": 1,
   "id": "f03e9ea9-7b62-4962-90f5-3ecb538f4477",
   "metadata": {},
   "outputs": [],
   "source": [
    "from transformers import pipeline, Conversation\n",
    "import gradio as gr"
   ]
  },
  {
   "cell_type": "markdown",
   "id": "8c43bb37-0056-4eaa-ae9b-24dd30c56754",
   "metadata": {},
   "source": [
    "#### Sentiment Analysis"
   ]
  },
  {
   "cell_type": "code",
   "execution_count": 2,
   "id": "8aa647ea-9305-4206-b5ae-ed5565db6221",
   "metadata": {},
   "outputs": [
    {
     "data": {
      "text/plain": [
       "[{'label': 'POSITIVE', 'score': 0.9998745918273926}]"
      ]
     },
     "execution_count": 2,
     "metadata": {},
     "output_type": "execute_result"
    }
   ],
   "source": [
    "# toy example 1\n",
    "pipeline(task=\"sentiment-analysis\", model=\"distilbert-base-uncased-finetuned-sst-2-english\")(\"Love this!\")"
   ]
  },
  {
   "cell_type": "markdown",
   "id": "e712fbe6-e9d7-4346-933f-e250b846a0ff",
   "metadata": {},
   "source": [
    "#### More Sentiment Analysis"
   ]
  },
  {
   "cell_type": "code",
   "execution_count": 3,
   "id": "cb83cab0-0718-47bb-8a19-240a065f2b8d",
   "metadata": {},
   "outputs": [],
   "source": [
    "# defining classifier\n",
    "classifier = pipeline(task=\"sentiment-analysis\", model=\"distilbert-base-uncased-finetuned-sst-2-english\")"
   ]
  },
  {
   "cell_type": "code",
   "execution_count": 4,
   "id": "ab3948c2-aa59-4ec8-bbc0-6697a5898bc1",
   "metadata": {},
   "outputs": [
    {
     "data": {
      "text/plain": [
       "[{'label': 'NEGATIVE', 'score': 0.9997110962867737}]"
      ]
     },
     "execution_count": 4,
     "metadata": {},
     "output_type": "execute_result"
    }
   ],
   "source": [
    "classifier(\"Hate this.\")"
   ]
  },
  {
   "cell_type": "code",
   "execution_count": 5,
   "id": "294e524d-9cbc-4e63-8f74-f7045564c2a0",
   "metadata": {},
   "outputs": [
    {
     "data": {
      "text/plain": [
       "[{'label': 'POSITIVE', 'score': 0.9998785257339478},\n",
       " {'label': 'POSITIVE', 'score': 0.9680055379867554},\n",
       " {'label': 'NEGATIVE', 'score': 0.9959624409675598},\n",
       " {'label': 'POSITIVE', 'score': 0.9998120665550232}]"
      ]
     },
     "execution_count": 5,
     "metadata": {},
     "output_type": "execute_result"
    }
   ],
   "source": [
    "# we can also pass in a list to classifier\n",
    "text_list = [\"This is great\", \\\n",
    "             \"Thanks for nothing\", \\\n",
    "             \"This behaviour is gonna land you up in jail\", \\\n",
    "             \"You're beautiful, never change!\"]\n",
    "\n",
    "classifier(text_list)"
   ]
  },
  {
   "cell_type": "code",
   "execution_count": 6,
   "id": "4dbf9541-093b-4eb2-9a28-2d6b96d49519",
   "metadata": {},
   "outputs": [],
   "source": [
    "# if there are multiple target labels, we can return them all\n",
    "classifier = pipeline(task=\"text-classification\", model=\"SamLowe/roberta-base-go_emotions\", top_k=None)"
   ]
  },
  {
   "cell_type": "code",
   "execution_count": 7,
   "id": "cd9e9143-5485-4cf0-b5f7-53c86e238bdc",
   "metadata": {},
   "outputs": [
    {
     "data": {
      "text/plain": [
       "[[{'label': 'admiration', 'score': 0.9526104927062988},\n",
       "  {'label': 'approval', 'score': 0.03047208860516548},\n",
       "  {'label': 'neutral', 'score': 0.015236238949000835},\n",
       "  {'label': 'excitement', 'score': 0.00606377562507987},\n",
       "  {'label': 'gratitude', 'score': 0.005296191666275263},\n",
       "  {'label': 'joy', 'score': 0.004475215449929237},\n",
       "  {'label': 'curiosity', 'score': 0.004322336055338383},\n",
       "  {'label': 'realization', 'score': 0.004089601803570986},\n",
       "  {'label': 'optimism', 'score': 0.00407722033560276},\n",
       "  {'label': 'disapproval', 'score': 0.004076561890542507},\n",
       "  {'label': 'annoyance', 'score': 0.0035287411883473396},\n",
       "  {'label': 'surprise', 'score': 0.0029730701353400946},\n",
       "  {'label': 'disappointment', 'score': 0.002734640846028924},\n",
       "  {'label': 'love', 'score': 0.0026945816352963448},\n",
       "  {'label': 'amusement', 'score': 0.0024867451284080744},\n",
       "  {'label': 'confusion', 'score': 0.0023607409093528986},\n",
       "  {'label': 'pride', 'score': 0.002101339166983962},\n",
       "  {'label': 'sadness', 'score': 0.0017730521503835917},\n",
       "  {'label': 'anger', 'score': 0.0017196929547935724},\n",
       "  {'label': 'caring', 'score': 0.0013670094776898623},\n",
       "  {'label': 'desire', 'score': 0.001047872588969767},\n",
       "  {'label': 'disgust', 'score': 0.0009689942235127091},\n",
       "  {'label': 'fear', 'score': 0.0005249780369922519},\n",
       "  {'label': 'relief', 'score': 0.0004862120549660176},\n",
       "  {'label': 'embarrassment', 'score': 0.00034175056498497725},\n",
       "  {'label': 'grief', 'score': 0.0003389196645002812},\n",
       "  {'label': 'remorse', 'score': 0.0002780951326712966},\n",
       "  {'label': 'nervousness', 'score': 0.00020788486290257424}]]"
      ]
     },
     "execution_count": 7,
     "metadata": {},
     "output_type": "execute_result"
    }
   ],
   "source": [
    "classifier(text_list[0])"
   ]
  },
  {
   "cell_type": "code",
   "execution_count": 8,
   "id": "d1193c78-2134-4f96-82d2-111886071082",
   "metadata": {},
   "outputs": [
    {
     "data": {
      "text/plain": [
       "[[{'label': 'annoyance', 'score': 0.3012233376502991},\n",
       "  {'label': 'anger', 'score': 0.2557739317417145},\n",
       "  {'label': 'neutral', 'score': 0.2095475196838379},\n",
       "  {'label': 'disapproval', 'score': 0.06141771376132965},\n",
       "  {'label': 'disappointment', 'score': 0.04219817742705345},\n",
       "  {'label': 'disgust', 'score': 0.027939995750784874},\n",
       "  {'label': 'sadness', 'score': 0.023153923451900482},\n",
       "  {'label': 'optimism', 'score': 0.020719895139336586},\n",
       "  {'label': 'caring', 'score': 0.01593458466231823},\n",
       "  {'label': 'fear', 'score': 0.01380185317248106},\n",
       "  {'label': 'approval', 'score': 0.010002903640270233},\n",
       "  {'label': 'realization', 'score': 0.006339059676975012},\n",
       "  {'label': 'desire', 'score': 0.0061490414664149284},\n",
       "  {'label': 'embarrassment', 'score': 0.00608401233330369},\n",
       "  {'label': 'nervousness', 'score': 0.002909009112045169},\n",
       "  {'label': 'curiosity', 'score': 0.0027839387767016888},\n",
       "  {'label': 'confusion', 'score': 0.0026278968434780836},\n",
       "  {'label': 'amusement', 'score': 0.001475259312428534},\n",
       "  {'label': 'remorse', 'score': 0.0014347906690090895},\n",
       "  {'label': 'joy', 'score': 0.0010468304390087724},\n",
       "  {'label': 'grief', 'score': 0.0010137477656826377},\n",
       "  {'label': 'surprise', 'score': 0.0009325018618255854},\n",
       "  {'label': 'excitement', 'score': 0.0008533025975339115},\n",
       "  {'label': 'love', 'score': 0.0007514090975746512},\n",
       "  {'label': 'admiration', 'score': 0.0006282739341259003},\n",
       "  {'label': 'relief', 'score': 0.0004874090664088726},\n",
       "  {'label': 'pride', 'score': 0.00044213226647116244},\n",
       "  {'label': 'gratitude', 'score': 0.00024835061049088836}]]"
      ]
     },
     "execution_count": 8,
     "metadata": {},
     "output_type": "execute_result"
    }
   ],
   "source": [
    "classifier(text_list[2])"
   ]
  },
  {
   "cell_type": "markdown",
   "id": "1e3c7961-69ec-4a02-90a8-1530286f6bab",
   "metadata": {},
   "source": [
    "#### Summarization"
   ]
  },
  {
   "cell_type": "code",
   "execution_count": 9,
   "id": "6d0b7060-fb04-40de-8d25-7edd8772d04a",
   "metadata": {},
   "outputs": [],
   "source": [
    "summarizer = pipeline(\"summarization\", model=\"facebook/bart-large-cnn\")"
   ]
  },
  {
   "cell_type": "code",
   "execution_count": 10,
   "id": "cedeb7ee-c1ec-4e71-b31b-9db46ed56c80",
   "metadata": {},
   "outputs": [
    {
     "data": {
      "text/plain": [
       "'Hugging Face is an AI company that has become a major hub for open-source machine learning. They have 3 major elements which allow users to access and share machine learning resources.'"
      ]
     },
     "execution_count": 10,
     "metadata": {},
     "output_type": "execute_result"
    }
   ],
   "source": [
    "text = \"\"\"\n",
    "Hugging Face is an AI company that has become a major hub for open-source machine learning. \n",
    "Their platform has 3 major elements which allow users to access and share machine learning resources. \n",
    "First, is their rapidly growing repository of pre-trained open-source machine learning models for things such as natural language processing (NLP), computer vision, and more. \n",
    "Second, is their library of datasets for training machine learning models for almost any task. \n",
    "Third, and finally, is Spaces which is a collection of open-source ML apps.\n",
    "\n",
    "The power of these resources is that they are community generated, which leverages all the benefits of open source i.e. cost-free, wide diversity of tools, high quality resources, and rapid pace of innovation. \n",
    "While these make building powerful ML projects more accessible than before, there is another key element of the Hugging Face ecosystem—their Transformers library.\n",
    "\"\"\"\n",
    "summarized_text = summarizer(text, min_length=5)[0]['summary_text']\n",
    "summarized_text"
   ]
  },
  {
   "cell_type": "code",
   "execution_count": 11,
   "id": "d2e48ba3-b55b-46df-9d4e-717fb2726dad",
   "metadata": {},
   "outputs": [
    {
     "data": {
      "text/plain": [
       "[[{'label': 'neutral', 'score': 0.9101783633232117},\n",
       "  {'label': 'approval', 'score': 0.08781362324953079},\n",
       "  {'label': 'realization', 'score': 0.02325628511607647},\n",
       "  {'label': 'annoyance', 'score': 0.006623796187341213},\n",
       "  {'label': 'admiration', 'score': 0.0049810647033154964},\n",
       "  {'label': 'disapproval', 'score': 0.004730128683149815},\n",
       "  {'label': 'optimism', 'score': 0.0033590742386877537},\n",
       "  {'label': 'disappointment', 'score': 0.002619008533656597},\n",
       "  {'label': 'confusion', 'score': 0.001953983213752508},\n",
       "  {'label': 'excitement', 'score': 0.0012417034013196826},\n",
       "  {'label': 'disgust', 'score': 0.001140780746936798},\n",
       "  {'label': 'joy', 'score': 0.0010540119837969542},\n",
       "  {'label': 'amusement', 'score': 0.0009572373819537461},\n",
       "  {'label': 'love', 'score': 0.0008871043683029711},\n",
       "  {'label': 'desire', 'score': 0.0008553267107345164},\n",
       "  {'label': 'curiosity', 'score': 0.0008261060575023293},\n",
       "  {'label': 'anger', 'score': 0.0007336389389820397},\n",
       "  {'label': 'caring', 'score': 0.0006971130496822298},\n",
       "  {'label': 'sadness', 'score': 0.0006702442187815905},\n",
       "  {'label': 'gratitude', 'score': 0.0006645724060945213},\n",
       "  {'label': 'surprise', 'score': 0.0005773778539150953},\n",
       "  {'label': 'relief', 'score': 0.00047890536370687187},\n",
       "  {'label': 'fear', 'score': 0.0004512510495260358},\n",
       "  {'label': 'pride', 'score': 0.00035174324875697494},\n",
       "  {'label': 'embarrassment', 'score': 0.0003261527162976563},\n",
       "  {'label': 'remorse', 'score': 0.0001947577839018777},\n",
       "  {'label': 'nervousness', 'score': 0.0001852151472121477},\n",
       "  {'label': 'grief', 'score': 0.00016037889872677624}]]"
      ]
     },
     "execution_count": 11,
     "metadata": {},
     "output_type": "execute_result"
    }
   ],
   "source": [
    "classifier(summarized_text)"
   ]
  },
  {
   "cell_type": "markdown",
   "id": "b783e8c1-a1f6-4f3a-b539-e4e77063f390",
   "metadata": {},
   "source": [
    "#### Conversational"
   ]
  },
  {
   "cell_type": "code",
   "execution_count": 12,
   "id": "6be097fd-cde5-4038-a20d-c2d86cdcd9a7",
   "metadata": {},
   "outputs": [],
   "source": [
    "chatbot = pipeline(model=\"facebook/blenderbot-400M-distill\")"
   ]
  },
  {
   "cell_type": "code",
   "execution_count": 15,
   "id": "7580fb20-2ba8-49ab-9261-18d46018d7e3",
   "metadata": {},
   "outputs": [
    {
     "data": {
      "text/plain": [
       "[{'generated_text': ' My name is samantha. Nice to meet you. What do you do for a living?'}]"
      ]
     },
     "execution_count": 15,
     "metadata": {},
     "output_type": "execute_result"
    }
   ],
   "source": [
    "conversation = chatbot(\"Hi I'm Ashwin, what's your name?\")\n",
    "conversation"
   ]
  },
  {
   "cell_type": "code",
   "execution_count": 16,
   "id": "df70da9e-be39-4c12-8e72-8ad6d8a49bf3",
   "metadata": {},
   "outputs": [
    {
     "data": {
      "text/plain": [
       "[{'generated_text': ' I am doing well, thank you. I am glad to hear that you are doing well.'}]"
      ]
     },
     "execution_count": 16,
     "metadata": {},
     "output_type": "execute_result"
    }
   ],
   "source": [
    "conversation = chatbot(\"I am fine, how are you doing?\")\n",
    "conversation"
   ]
  },
  {
   "cell_type": "code",
   "execution_count": 17,
   "id": "b27ea6f8-939d-46df-9543-ce971556a5d2",
   "metadata": {},
   "outputs": [
    {
     "data": {
      "text/plain": [
       "[{'generated_text': \" I work at a grocery store as a cashier. It's not the most exciting job in the world, but it pays the bills.\"}]"
      ]
     },
     "execution_count": 17,
     "metadata": {},
     "output_type": "execute_result"
    }
   ],
   "source": [
    "conversation = chatbot(\"Where do you work?\")\n",
    "conversation"
   ]
  },
  {
   "cell_type": "markdown",
   "id": "bada0ed1-3f3c-4c85-bd0d-b8330f587f23",
   "metadata": {},
   "source": [
    "#### Making Chatbot for better interface"
   ]
  },
  {
   "cell_type": "code",
   "execution_count": 19,
   "id": "fe84ffbb-a49a-4126-92fe-a38c5791b158",
   "metadata": {},
   "outputs": [
    {
     "name": "stdout",
     "output_type": "stream",
     "text": [
      "Running on local URL:  http://127.0.0.1:7861\n",
      "\n",
      "To create a public link, set `share=True` in `launch()`.\n"
     ]
    },
    {
     "data": {
      "text/html": [
       "<div><iframe src=\"http://127.0.0.1:7861/\" width=\"100%\" height=\"500\" allow=\"autoplay; camera; microphone; clipboard-read; clipboard-write;\" frameborder=\"0\" allowfullscreen></iframe></div>"
      ],
      "text/plain": [
       "<IPython.core.display.HTML object>"
      ]
     },
     "metadata": {},
     "output_type": "display_data"
    },
    {
     "data": {
      "text/plain": []
     },
     "execution_count": 19,
     "metadata": {},
     "output_type": "execute_result"
    }
   ],
   "source": [
    "def samantha_bot(message, history):\n",
    "    #print(chatbot(message))\n",
    "    return chatbot(message)[0]['generated_text']\n",
    "\n",
    "demo_summarizer = gr.ChatInterface(samantha_bot, title=\"Samantha Chatbot\", description=\"Enter your text for chatting with an AI groccery store cashier.\")\n",
    "\n",
    "demo_summarizer.launch()"
   ]
  },
  {
   "cell_type": "markdown",
   "id": "94e6f7db-f09c-452a-97ee-2bc9c0b9707e",
   "metadata": {},
   "source": [
    "### Deploy Chatbot UI"
   ]
  },
  {
   "cell_type": "markdown",
   "id": "51f53d0e-4ee3-416c-9abe-bd64bbde7433",
   "metadata": {},
   "source": [
    "#### Text Sentiment Chatbot"
   ]
  },
  {
   "cell_type": "code",
   "execution_count": 20,
   "id": "50498912-8ebb-4369-bd7b-c923eee4dd42",
   "metadata": {},
   "outputs": [
    {
     "name": "stdout",
     "output_type": "stream",
     "text": [
      "Running on local URL:  http://127.0.0.1:7862\n",
      "\n",
      "To create a public link, set `share=True` in `launch()`.\n"
     ]
    },
    {
     "data": {
      "text/html": [
       "<div><iframe src=\"http://127.0.0.1:7862/\" width=\"100%\" height=\"500\" allow=\"autoplay; camera; microphone; clipboard-read; clipboard-write;\" frameborder=\"0\" allowfullscreen></iframe></div>"
      ],
      "text/plain": [
       "<IPython.core.display.HTML object>"
      ]
     },
     "metadata": {},
     "output_type": "display_data"
    },
    {
     "data": {
      "text/plain": []
     },
     "execution_count": 20,
     "metadata": {},
     "output_type": "execute_result"
    }
   ],
   "source": [
    "def top3_text_classes(message, history):\n",
    "    return str(classifier(message)[0][:3]).replace('}, {', '\\n').replace('[{', '').replace('}]', '')\n",
    "\n",
    "demo_sentiment = gr.ChatInterface(top3_text_classes, title=\"Text Sentiment Chatbot\", description=\"Enter your text, and the chatbot will return the summarized version.\")\n",
    "\n",
    "demo_sentiment.launch()"
   ]
  },
  {
   "cell_type": "markdown",
   "id": "88e64992-072b-4c6f-be95-7bbba7dfefe1",
   "metadata": {},
   "source": [
    "#### Summarizer Chatbot"
   ]
  },
  {
   "cell_type": "code",
   "execution_count": 21,
   "id": "ebf5e2fb-9e5d-4756-aaee-c98c660b3294",
   "metadata": {},
   "outputs": [
    {
     "name": "stdout",
     "output_type": "stream",
     "text": [
      "Running on local URL:  http://127.0.0.1:7863\n",
      "\n",
      "To create a public link, set `share=True` in `launch()`.\n"
     ]
    },
    {
     "data": {
      "text/html": [
       "<div><iframe src=\"http://127.0.0.1:7863/\" width=\"100%\" height=\"500\" allow=\"autoplay; camera; microphone; clipboard-read; clipboard-write;\" frameborder=\"0\" allowfullscreen></iframe></div>"
      ],
      "text/plain": [
       "<IPython.core.display.HTML object>"
      ]
     },
     "metadata": {},
     "output_type": "display_data"
    },
    {
     "data": {
      "text/plain": []
     },
     "execution_count": 21,
     "metadata": {},
     "output_type": "execute_result"
    }
   ],
   "source": [
    "def summarizer_bot(message, history):\n",
    "    return summarizer(message, min_length=5, max_length=140)[0]['summary_text']\n",
    "\n",
    "demo_summarizer = gr.ChatInterface(summarizer_bot, title=\"Summarizer Chatbot\", description=\"Enter your text, and the chatbot will return the summarized version.\")\n",
    "\n",
    "demo_summarizer.launch()"
   ]
  },
  {
   "cell_type": "markdown",
   "id": "3a9759ba-9a81-40cb-87fe-d72939be5460",
   "metadata": {},
   "source": [
    "#### Vanilla Chatbot"
   ]
  },
  {
   "cell_type": "code",
   "execution_count": 22,
   "id": "507b9671-2035-4d3e-9385-931af3a69580",
   "metadata": {},
   "outputs": [
    {
     "name": "stdout",
     "output_type": "stream",
     "text": [
      "Running on local URL:  http://127.0.0.1:7864\n",
      "\n",
      "To create a public link, set `share=True` in `launch()`.\n"
     ]
    },
    {
     "data": {
      "text/html": [
       "<div><iframe src=\"http://127.0.0.1:7864/\" width=\"100%\" height=\"500\" allow=\"autoplay; camera; microphone; clipboard-read; clipboard-write;\" frameborder=\"0\" allowfullscreen></iframe></div>"
      ],
      "text/plain": [
       "<IPython.core.display.HTML object>"
      ]
     },
     "metadata": {},
     "output_type": "display_data"
    },
    {
     "data": {
      "text/plain": []
     },
     "execution_count": 22,
     "metadata": {},
     "output_type": "execute_result"
    }
   ],
   "source": [
    "message_list = []\n",
    "response_list = []\n",
    "\n",
    "def vanilla_chatbot(message, history):\n",
    "    conversation = chatbot(message)\n",
    "    \n",
    "    return conversation[0]['generated_text']\n",
    "\n",
    "demo_chatbot = gr.ChatInterface(vanilla_chatbot, title=\"Vanilla Chatbot\", description=\"Enter text to start chatting.\")\n",
    "\n",
    "demo_chatbot.launch()"
   ]
  }
 ],
 "metadata": {
  "kernelspec": {
   "display_name": "Python 3 (ipykernel)",
   "language": "python",
   "name": "python3"
  },
  "language_info": {
   "codemirror_mode": {
    "name": "ipython",
    "version": 3
   },
   "file_extension": ".py",
   "mimetype": "text/x-python",
   "name": "python",
   "nbconvert_exporter": "python",
   "pygments_lexer": "ipython3",
   "version": "3.11.9"
  }
 },
 "nbformat": 4,
 "nbformat_minor": 5
}

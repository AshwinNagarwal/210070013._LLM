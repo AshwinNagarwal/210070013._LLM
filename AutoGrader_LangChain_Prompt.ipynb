{
 "cells": [
  {
   "cell_type": "markdown",
   "id": "9abecce8-e57c-40a7-8eed-fa70308061a6",
   "metadata": {},
   "source": [
    "## Automatic Grader"
   ]
  },
  {
   "cell_type": "markdown",
   "id": "42ff2aa0",
   "metadata": {},
   "source": [
    "#### Instruction for Conda Env\n",
    "1. pip install langchain-community\n",
    "2. pip install openapi"
   ]
  },
  {
   "cell_type": "code",
   "execution_count": 1,
   "id": "1753887c-51bf-4192-a984-db70ca4df17c",
   "metadata": {},
   "outputs": [],
   "source": [
    "from langchain.chat_models import ChatOpenAI\n",
    "from langchain.prompts import PromptTemplate\n",
    "from langchain.chains import LLMChain\n",
    "from langchain.schema import BaseOutputParser"
   ]
  },
  {
   "cell_type": "markdown",
   "id": "88fe78d4-aa30-437f-a2ad-c0b409458fb1",
   "metadata": {},
   "source": [
    "### Define chain"
   ]
  },
  {
   "cell_type": "code",
   "execution_count": 6,
   "id": "c2e30879-75ac-4a56-8823-ac909612e8da",
   "metadata": {},
   "outputs": [],
   "source": [
    "# define chatbot\n",
    "chat_model = ChatOpenAI(openai_api_key=\"sk_key\", temperature=0)"
   ]
  },
  {
   "cell_type": "code",
   "execution_count": 7,
   "id": "64d0d947-54da-4c22-a27a-19196b30d2b0",
   "metadata": {},
   "outputs": [],
   "source": [
    "# define prompt template\n",
    "prompt_template_text = \"\"\"You are a high school history teacher grading homework assignments. \\\n",
    "Based on the homework question indicated by “**Q:**” and the correct answer indicated by “**A:**”, your task is to determine whether the student's answer is correct. \\\n",
    "Grading is binary; therefore, student answers can be correct or wrong. \\\n",
    "Simple misspellings are okay.\n",
    "\n",
    "**Q:** {question}\n",
    "**A:** {correct_answer}\n",
    "\n",
    "**Student's Answer:** {student_answer}\n",
    "\"\"\"\n",
    "\n",
    "prompt = PromptTemplate(input_variables=[\"question\", \"correct_answer\", \"student_answer\"], template = prompt_template_text)"
   ]
  },
  {
   "cell_type": "code",
   "execution_count": 8,
   "id": "0ffaf863-dc3e-4208-be89-d53d3a3bb630",
   "metadata": {},
   "outputs": [],
   "source": [
    "# define chain\n",
    "chain = LLMChain(\n",
    "    llm=chat_model,\n",
    "    prompt=prompt,\n",
    ")"
   ]
  },
  {
   "cell_type": "markdown",
   "id": "36f7149c-c422-404e-b93a-5ccb8d399b14",
   "metadata": {},
   "source": [
    "### Using LLMChain"
   ]
  },
  {
   "cell_type": "code",
   "execution_count": null,
   "id": "ce56c8de",
   "metadata": {},
   "outputs": [],
   "source": [
    "# define inputs\n",
    "question = \"Who was the 35th president of the United States of America?\"\n",
    "correct_answer = \"John F. Kennedy\"\n",
    "student_answer =  \"JFK\"\n",
    "\n",
    "# run chain\n",
    "chain.run({'question':question, 'correct_answer':correct_answer, 'student_answer':student_answer})"
   ]
  },
  {
   "cell_type": "code",
   "execution_count": null,
   "id": "376c74ca",
   "metadata": {},
   "outputs": [
    {
     "name": "stdout",
     "output_type": "stream",
     "text": [
      "John F. Kennedy - Correct\n",
      "\n",
      "\n",
      "JFK - Correct\n",
      "\n",
      "\n",
      "FDR - Student's Answer is wrong.\n",
      "\n",
      "\n",
      "John F. Kenedy - Correct\n",
      "\n",
      "\n",
      "John Kennedy - Correct\n",
      "\n",
      "\n",
      "Jack Kennedy - Grade: Correct\n",
      "\n",
      "The student's answer, \"Jack Kennedy,\" is a simple misspelling of the correct answer, \"John F. Kennedy.\" However, the student's answer still accurately identifies the 35th president of the United States of America.\n",
      "\n",
      "\n",
      "Jacqueline Kennedy - Student's Answer: Jacqueline Kennedy\n",
      "\n",
      "Grade: Wrong\n",
      "\n",
      "Explanation: The student's answer is incorrect. The 35th president of the United States of America was John F. Kennedy, not Jacqueline Kennedy.\n",
      "\n",
      "\n",
      "Robert F. Kenedy - Student's Answer is wrong.\n",
      "\n",
      "\n"
     ]
    }
   ],
   "source": [
    "# run chain in for loop\n",
    "student_answer_list = [\"John F. Kennedy\", \"JFK\", \"FDR\", \"John F. Kenedy\", \"John Kennedy\", \"Jack Kennedy\", \"Jacqueline Kennedy\", \"Robert F. Kenedy\"]\n",
    "\n",
    "for student_answer in student_answer_list:\n",
    "    print(student_answer + \" - \" + str(chain.run({'question':question, 'correct_answer':correct_answer, 'student_answer':student_answer})))\n",
    "    print('\\n')"
   ]
  },
  {
   "cell_type": "markdown",
   "id": "2173d69b",
   "metadata": {},
   "source": [
    "### Add Output Parser"
   ]
  },
  {
   "cell_type": "code",
   "execution_count": null,
   "id": "8c71a760",
   "metadata": {},
   "outputs": [],
   "source": [
    "# define output parser\n",
    "class GradeOutputParser(BaseOutputParser):\n",
    "    \"\"\"Determine whether grade was correct or wrong\"\"\"\n",
    "\n",
    "    def parse(self, text: str):\n",
    "        \"\"\"Parse the output of an LLM call.\"\"\"\n",
    "        return \"wrong\" not in text.lower()"
   ]
  },
  {
   "cell_type": "code",
   "execution_count": null,
   "id": "9a63e800",
   "metadata": {},
   "outputs": [],
   "source": [
    "# update chain\n",
    "chain = LLMChain(\n",
    "    llm=chat_model,\n",
    "    prompt=prompt,\n",
    "    output_parser=GradeOutputParser()\n",
    ")"
   ]
  },
  {
   "cell_type": "code",
   "execution_count": null,
   "id": "aeb3e6a9",
   "metadata": {},
   "outputs": [
    {
     "name": "stdout",
     "output_type": "stream",
     "text": [
      "John F. Kennedy - True\n",
      "JFK - True\n",
      "FDR - False\n",
      "John F. Kenedy - True\n",
      "John Kennedy - True\n",
      "Jack Kennedy - True\n",
      "Jacqueline Kennedy - False\n",
      "Robert F. Kenedy - False\n"
     ]
    }
   ],
   "source": [
    "# grade student answers\n",
    "for student_answer in student_answer_list:\n",
    "    print(student_answer + \" - \" + str(chain.run({'question':question, 'correct_answer':correct_answer, 'student_answer':student_answer})))"
   ]
  }
 ],
 "metadata": {
  "kernelspec": {
   "display_name": "Python 3 (ipykernel)",
   "language": "python",
   "name": "python3"
  },
  "language_info": {
   "codemirror_mode": {
    "name": "ipython",
    "version": 3
   },
   "file_extension": ".py",
   "mimetype": "text/x-python",
   "name": "python",
   "nbconvert_exporter": "python",
   "pygments_lexer": "ipython3",
   "version": "3.12.4"
  }
 },
 "nbformat": 4,
 "nbformat_minor": 5
}
